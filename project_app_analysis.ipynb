{
 "cells": [
  {
   "cell_type": "markdown",
   "metadata": {},
   "source": [
    "# Title\n",
    "\n",
    "Short introduction in no more than 2 paragraphs.\n",
    "\n",
    "What the project is about, what your goal is in this project."
   ]
  },
  {
   "cell_type": "code",
   "execution_count": 33,
   "metadata": {
    "collapsed": false
   },
   "outputs": [],
   "source": [
    "# Open Apple Store dataset\n",
    "opened_apple_file = open('AppleStore.csv')\n",
    "from csv import reader\n",
    "read_apple_file = reader(opened_apple_file)\n",
    "apple_data = list(read_apple_file)\n",
    "apple_header = apple_data[0]\n",
    "apple_data = apple_data[1:]\n",
    "opened_apple_file.close()\n",
    "\n",
    "# Open Google Play dataset\n",
    "opened_google_file = open('googleplaystore.csv')\n",
    "from csv import reader\n",
    "read_google_file = reader(opened_google_file)\n",
    "google_data = list(read_google_file)\n",
    "google_header = google_data[0]\n",
    "google_data = google_data[1:]\n",
    "opened_google_file.close()"
   ]
  },
  {
   "cell_type": "code",
   "execution_count": 34,
   "metadata": {
    "collapsed": true
   },
   "outputs": [],
   "source": [
    "def explore_data(dataset, start, end, rows_and_columns=False):\n",
    "    dataset_slice = dataset[start:end]    \n",
    "    for row in dataset_slice:\n",
    "        print(row)\n",
    "        print('\\n') # adds a new (empty) line after each row\n",
    "\n",
    "    if rows_and_columns:\n",
    "        print('Number of rows:', len(dataset))\n",
    "        print('Number of columns:', len(dataset[0]))"
   ]
  },
  {
   "cell_type": "code",
   "execution_count": 35,
   "metadata": {
    "collapsed": false
   },
   "outputs": [
    {
     "name": "stdout",
     "output_type": "stream",
     "text": [
      "Apple data header: ['id', 'track_name', 'size_bytes', 'currency', 'price', 'rating_count_tot', 'rating_count_ver', 'user_rating', 'user_rating_ver', 'ver', 'cont_rating', 'prime_genre', 'sup_devices.num', 'ipadSc_urls.num', 'lang.num', 'vpp_lic']\n",
      "\n",
      "\n",
      "['284882215', 'Facebook', '389879808', 'USD', '0.0', '2974676', '212', '3.5', '3.5', '95.0', '4+', 'Social Networking', '37', '1', '29', '1']\n",
      "\n",
      "\n",
      "['389801252', 'Instagram', '113954816', 'USD', '0.0', '2161558', '1289', '4.5', '4.0', '10.23', '12+', 'Photo & Video', '37', '0', '29', '1']\n",
      "\n",
      "\n",
      "['529479190', 'Clash of Clans', '116476928', 'USD', '0.0', '2130805', '579', '4.5', '4.5', '9.24.12', '9+', 'Games', '38', '5', '18', '1']\n",
      "\n",
      "\n",
      "Number of rows: 7197\n",
      "Number of columns: 16\n"
     ]
    }
   ],
   "source": [
    "print(\"Apple data header:\", apple_header)\n",
    "print('\\n')\n",
    "explore_data(apple_data, 0, 3, rows_and_columns=True)"
   ]
  },
  {
   "cell_type": "code",
   "execution_count": 36,
   "metadata": {
    "collapsed": false
   },
   "outputs": [
    {
     "name": "stdout",
     "output_type": "stream",
     "text": [
      "Google data header: ['App', 'Category', 'Rating', 'Reviews', 'Size', 'Installs', 'Type', 'Price', 'Content Rating', 'Genres', 'Last Updated', 'Current Ver', 'Android Ver']\n",
      "\n",
      "\n",
      "['Photo Editor & Candy Camera & Grid & ScrapBook', 'ART_AND_DESIGN', '4.1', '159', '19M', '10,000+', 'Free', '0', 'Everyone', 'Art & Design', 'January 7, 2018', '1.0.0', '4.0.3 and up']\n",
      "\n",
      "\n",
      "['Coloring book moana', 'ART_AND_DESIGN', '3.9', '967', '14M', '500,000+', 'Free', '0', 'Everyone', 'Art & Design;Pretend Play', 'January 15, 2018', '2.0.0', '4.0.3 and up']\n",
      "\n",
      "\n",
      "['U Launcher Lite – FREE Live Cool Themes, Hide Apps', 'ART_AND_DESIGN', '4.7', '87510', '8.7M', '5,000,000+', 'Free', '0', 'Everyone', 'Art & Design', 'August 1, 2018', '1.2.4', '4.0.3 and up']\n",
      "\n",
      "\n",
      "Number of rows: 10841\n",
      "Number of columns: 13\n"
     ]
    }
   ],
   "source": [
    "print(\"Google data header:\", google_header)\n",
    "print('\\n')\n",
    "explore_data(google_data, 0, 3, rows_and_columns=True)"
   ]
  },
  {
   "cell_type": "code",
   "execution_count": 37,
   "metadata": {
    "collapsed": false
   },
   "outputs": [
    {
     "name": "stdout",
     "output_type": "stream",
     "text": [
      "['Life Made WI-Fi Touchscreen Photo Frame', '1.9', '19', '3.0M', '1,000+', 'Free', '0', 'Everyone', '', 'February 11, 2018', '1.0.19', '4.0 and up']\n"
     ]
    }
   ],
   "source": [
    "# This application is missing its value for the \"category\" row.\n",
    "\n",
    "# ['Life Made WI-Fi Touchscreen Photo Frame', '1.9', '19', '3.0M', \n",
    "# '1,000+', 'Free', '0', 'Everyone', '', 'February 11, 2018', '1.0.19',\n",
    "# '4.0 and up']\n",
    "\n",
    "print(google_data[10472])"
   ]
  },
  {
   "cell_type": "code",
   "execution_count": 38,
   "metadata": {
    "collapsed": true
   },
   "outputs": [],
   "source": [
    "# Delete the previous row\n",
    "del google_data[10472]"
   ]
  },
  {
   "cell_type": "code",
   "execution_count": 39,
   "metadata": {
    "collapsed": false,
    "scrolled": true
   },
   "outputs": [
    {
     "name": "stdout",
     "output_type": "stream",
     "text": [
      "Duplicate apps:  1181\n",
      "Unique apps:  9659\n",
      "\n",
      "\n",
      "Example of duplicate apps: ['Quick PDF Scanner + OCR FREE', 'Box', 'Google My Business', 'ZOOM Cloud Meetings', 'join.me - Simple Meetings', 'Box', 'Zenefits', 'Google Ads', 'Google My Business', 'Slack', 'FreshBooks Classic', 'Insightly CRM', 'QuickBooks Accounting: Invoicing & Expenses', 'HipChat - Chat Built for Teams', 'Xero Accounting Software']\n"
     ]
    }
   ],
   "source": [
    "# Google Play data has some duplicate entries, let's make of list of the duplicates.\n",
    "\n",
    "duplicate_google_apps = []\n",
    "unique_google_apps = []\n",
    "\n",
    "for app in google_data:\n",
    "    name = app[0]\n",
    "    if name in unique_google_apps:\n",
    "        duplicate_google_apps.append(name)\n",
    "    else:\n",
    "        unique_google_apps.append(name)\n",
    "\n",
    "print('Duplicate apps: ', len(duplicate_google_apps))\n",
    "print('Unique apps: ', len(unique_google_apps))\n",
    "print(\"\\n\")\n",
    "print(\"Example of duplicate apps:\", duplicate_google_apps[:15])"
   ]
  },
  {
   "cell_type": "markdown",
   "metadata": {},
   "source": [
    "We won't remove the duplicates randomly. \n",
    "We could base our decision on the last_updated, highest version, number of reviews \n",
    "Because blah... "
   ]
  },
  {
   "cell_type": "code",
   "execution_count": 40,
   "metadata": {
    "collapsed": false
   },
   "outputs": [
    {
     "name": "stdout",
     "output_type": "stream",
     "text": [
      "<class 'dict'>\n",
      "There are 9659 apps in this dictionary\n"
     ]
    }
   ],
   "source": [
    "review_max = {}\n",
    "for app in google_data:\n",
    "    name = app[0]\n",
    "    n_reviews = float(app[3])\n",
    "    if name in review_max and review_max[name] < n_reviews:\n",
    "        review_max[name] = n_reviews\n",
    "    if name not in review_max:\n",
    "        review_max[name] = n_reviews\n",
    "\n",
    "print(type(review_max))\n",
    "print('There are', len(review_max), 'apps in this dictionary')"
   ]
  },
  {
   "cell_type": "markdown",
   "metadata": {},
   "source": [
    "We'll loop through the newly created review_max{} dict and:\n",
    "* Check if the number of reviews is the same as the max number in the dict\n",
    "* Check if the app name is not already in the already_added{} dict"
   ]
  },
  {
   "cell_type": "code",
   "execution_count": 41,
   "metadata": {
    "collapsed": true
   },
   "outputs": [],
   "source": [
    "android_clean = []\n",
    "already_added = []\n",
    "\n",
    "for app in google_data:\n",
    "    name = app[0]\n",
    "    n_reviews = float(app[3])\n",
    "    if (review_max[name] == n_reviews) and (name not in already_added):\n",
    "        android_clean.append(app)\n",
    "        already_added.append(name)"
   ]
  },
  {
   "cell_type": "code",
   "execution_count": 42,
   "metadata": {
    "collapsed": false
   },
   "outputs": [
    {
     "name": "stdout",
     "output_type": "stream",
     "text": [
      "['Photo Editor & Candy Camera & Grid & ScrapBook', 'ART_AND_DESIGN', '4.1', '159', '19M', '10,000+', 'Free', '0', 'Everyone', 'Art & Design', 'January 7, 2018', '1.0.0', '4.0.3 and up']\n",
      "\n",
      "\n",
      "['U Launcher Lite – FREE Live Cool Themes, Hide Apps', 'ART_AND_DESIGN', '4.7', '87510', '8.7M', '5,000,000+', 'Free', '0', 'Everyone', 'Art & Design', 'August 1, 2018', '1.2.4', '4.0.3 and up']\n",
      "\n",
      "\n",
      "['Sketch - Draw & Paint', 'ART_AND_DESIGN', '4.5', '215644', '25M', '50,000,000+', 'Free', '0', 'Teen', 'Art & Design', 'June 8, 2018', 'Varies with device', '4.2 and up']\n",
      "\n",
      "\n",
      "Number of rows: 9659\n",
      "Number of columns: 13\n"
     ]
    }
   ],
   "source": [
    "explore_data(android_clean, 0, 3, True)"
   ]
  },
  {
   "cell_type": "markdown",
   "metadata": {},
   "source": [
    "### Remove non-english apps\n",
    "Let's create a function called is_english() that will analyze if an app name has more than 3 non-ASCII caracters."
   ]
  },
  {
   "cell_type": "code",
   "execution_count": 43,
   "metadata": {
    "collapsed": false
   },
   "outputs": [
    {
     "name": "stdout",
     "output_type": "stream",
     "text": [
      "True\n",
      "False\n",
      "True\n",
      "True\n"
     ]
    }
   ],
   "source": [
    "def is_english (string):\n",
    "    non_ascii = 0\n",
    "    for character in string:\n",
    "        if ord(character) > 127:\n",
    "            non_ascii += 1\n",
    "    if non_ascii > 3:\n",
    "        return False\n",
    "    else:\n",
    "        return True\n",
    "\n",
    "print(is_english(\"Instagram\"))\n",
    "print(is_english(\"爱奇艺PPS -《欢乐颂2》电视剧热播\"))\n",
    "print(is_english(\"Docs To Go™ Free Office Suite\"))\n",
    "print(is_english(\"Instachat 😜\"))\n",
    "\n",
    "#print(ord(\"™\"))\n",
    "#print(ord(\"😜\"))"
   ]
  },
  {
   "cell_type": "markdown",
   "metadata": {
    "collapsed": true
   },
   "source": [
    "Let's use our previously defined function to filter the 2 datasets, iOS and Android."
   ]
  },
  {
   "cell_type": "code",
   "execution_count": 44,
   "metadata": {
    "collapsed": false
   },
   "outputs": [
    {
     "name": "stdout",
     "output_type": "stream",
     "text": [
      "['Photo Editor & Candy Camera & Grid & ScrapBook', 'ART_AND_DESIGN', '4.1', '159', '19M', '10,000+', 'Free', '0', 'Everyone', 'Art & Design', 'January 7, 2018', '1.0.0', '4.0.3 and up']\n",
      "\n",
      "\n",
      "['U Launcher Lite – FREE Live Cool Themes, Hide Apps', 'ART_AND_DESIGN', '4.7', '87510', '8.7M', '5,000,000+', 'Free', '0', 'Everyone', 'Art & Design', 'August 1, 2018', '1.2.4', '4.0.3 and up']\n",
      "\n",
      "\n",
      "['Sketch - Draw & Paint', 'ART_AND_DESIGN', '4.5', '215644', '25M', '50,000,000+', 'Free', '0', 'Teen', 'Art & Design', 'June 8, 2018', 'Varies with device', '4.2 and up']\n",
      "\n",
      "\n",
      "Number of rows: 9614\n",
      "Number of columns: 13\n",
      "\n",
      "\n",
      "['284882215', 'Facebook', '389879808', 'USD', '0.0', '2974676', '212', '3.5', '3.5', '95.0', '4+', 'Social Networking', '37', '1', '29', '1']\n",
      "\n",
      "\n",
      "['389801252', 'Instagram', '113954816', 'USD', '0.0', '2161558', '1289', '4.5', '4.0', '10.23', '12+', 'Photo & Video', '37', '0', '29', '1']\n",
      "\n",
      "\n",
      "['529479190', 'Clash of Clans', '116476928', 'USD', '0.0', '2130805', '579', '4.5', '4.5', '9.24.12', '9+', 'Games', '38', '5', '18', '1']\n",
      "\n",
      "\n",
      "Number of rows: 6183\n",
      "Number of columns: 16\n"
     ]
    }
   ],
   "source": [
    "android_english = []\n",
    "apple_english = []\n",
    "\n",
    "for app in android_clean:\n",
    "    name = app[0]\n",
    "    if is_english(name):\n",
    "        android_english.append(app)\n",
    "        \n",
    "for app in apple_data:\n",
    "    name = app[1]\n",
    "    if is_english(name):\n",
    "        apple_english.append(app)\n",
    "\n",
    "explore_data(android_english, 0, 3, True)\n",
    "print('\\n')\n",
    "explore_data(apple_english, 0, 3, True)"
   ]
  },
  {
   "cell_type": "markdown",
   "metadata": {},
   "source": [
    "### Isolate free apps"
   ]
  },
  {
   "cell_type": "code",
   "execution_count": 45,
   "metadata": {
    "collapsed": false
   },
   "outputs": [
    {
     "name": "stdout",
     "output_type": "stream",
     "text": [
      "Number of free english Android apps:  8864\n",
      "Number of free english Apple apps:  3222\n"
     ]
    }
   ],
   "source": [
    "android_free = []\n",
    "apple_free = []\n",
    "\n",
    "for app in android_english:\n",
    "    price = app[7]\n",
    "    if price == \"0\":\n",
    "        android_free.append(app)\n",
    "\n",
    "for app in apple_english:\n",
    "    price = float(app[4])\n",
    "    if price == 0:\n",
    "        apple_free.append(app)\n",
    "\n",
    "print('Number of free english Android apps: ', len(android_free))\n",
    "#print('\\n')\n",
    "print('Number of free english Apple apps: ', len(apple_free))"
   ]
  },
  {
   "cell_type": "markdown",
   "metadata": {},
   "source": [
    "### Most common apps by genre\n",
    "Explanation on why we want to do that..."
   ]
  },
  {
   "cell_type": "code",
   "execution_count": 46,
   "metadata": {
    "collapsed": false
   },
   "outputs": [
    {
     "name": "stdout",
     "output_type": "stream",
     "text": [
      "Apple data header: ['id', 'track_name', 'size_bytes', 'currency', 'price', 'rating_count_tot', 'rating_count_ver', 'user_rating', 'user_rating_ver', 'ver', 'cont_rating', 'prime_genre', 'sup_devices.num', 'ipadSc_urls.num', 'lang.num', 'vpp_lic']\n",
      "Apple genre index:  11\n",
      "\n",
      "\n",
      "Google data header: ['App', 'Category', 'Rating', 'Reviews', 'Size', 'Installs', 'Type', 'Price', 'Content Rating', 'Genres', 'Last Updated', 'Current Ver', 'Android Ver']\n",
      "Google genre index:  1\n"
     ]
    }
   ],
   "source": [
    "print(\"Apple data header:\", apple_header)\n",
    "print(\"Apple genre index: \", apple_header.index(\"prime_genre\"))\n",
    "print('\\n')\n",
    "print(\"Google data header:\", google_header)\n",
    "print(\"Google genre index: \", google_header.index(\"Category\"))"
   ]
  },
  {
   "cell_type": "markdown",
   "metadata": {},
   "source": [
    "Create a function that creates a frequency table (as %) of apps datasets by genres:"
   ]
  },
  {
   "cell_type": "code",
   "execution_count": 47,
   "metadata": {
    "collapsed": true
   },
   "outputs": [],
   "source": [
    "def freq_table(dataset, index):\n",
    "    table = {}\n",
    "    for row in dataset:\n",
    "        item = row[index]\n",
    "        if item in table:\n",
    "            table[item] += 1\n",
    "        else:\n",
    "            table[item] = 1\n",
    "    \n",
    "    table_percent = {}\n",
    "    for key in table:\n",
    "        percent = (table[key] / len(dataset)) * 100\n",
    "        table_percent[key] = percent\n",
    "    \n",
    "    return table_percent"
   ]
  },
  {
   "cell_type": "markdown",
   "metadata": {},
   "source": [
    "Use the freq_table function on the 2 datasets:"
   ]
  },
  {
   "cell_type": "code",
   "execution_count": 48,
   "metadata": {
    "collapsed": false
   },
   "outputs": [
    {
     "name": "stdout",
     "output_type": "stream",
     "text": [
      "{'Finance': 1.1173184357541899, 'Sports': 2.1415270018621975, 'Education': 3.662321539416512, 'Book': 0.4345127250155183, 'Medical': 0.186219739292365, 'Utilities': 2.5139664804469275, 'News': 1.3345747982619491, 'Social Networking': 3.2898820608317814, 'Music': 2.0484171322160147, 'Business': 0.5276225946617008, 'Health & Fitness': 2.0173805090006205, 'Entertainment': 7.883302296710118, 'Weather': 0.8690254500310366, 'Navigation': 0.186219739292365, 'Catalogs': 0.12414649286157665, 'Shopping': 2.60707635009311, 'Lifestyle': 1.5828677839851024, 'Productivity': 1.7380509000620732, 'Photo & Video': 4.9658597144630665, 'Travel': 1.2414649286157666, 'Games': 58.16263190564867, 'Food & Drink': 0.8069522036002483, 'Reference': 0.5586592178770949}\n",
      "\n",
      "\n",
      "{'NEWS_AND_MAGAZINES': 2.7978339350180503, 'EVENTS': 0.7107400722021661, 'ART_AND_DESIGN': 0.6430505415162455, 'FOOD_AND_DRINK': 1.2409747292418771, 'BUSINESS': 4.591606498194946, 'COMICS': 0.6204873646209386, 'SHOPPING': 2.2450361010830324, 'EDUCATION': 1.1620036101083033, 'LIFESTYLE': 3.9034296028880866, 'ENTERTAINMENT': 0.9589350180505415, 'TRAVEL_AND_LOCAL': 2.33528880866426, 'FAMILY': 18.907942238267147, 'BEAUTY': 0.5979241877256317, 'PRODUCTIVITY': 3.892148014440433, 'SOCIAL': 2.6624548736462095, 'MEDICAL': 3.531137184115524, 'HEALTH_AND_FITNESS': 3.0798736462093865, 'PARENTING': 0.6543321299638989, 'LIBRARIES_AND_DEMO': 0.9363718411552346, 'PERSONALIZATION': 3.3167870036101084, 'MAPS_AND_NAVIGATION': 1.3989169675090252, 'GAME': 9.724729241877256, 'PHOTOGRAPHY': 2.944494584837545, 'WEATHER': 0.8009927797833934, 'COMMUNICATION': 3.2378158844765346, 'FINANCE': 3.7003610108303246, 'HOUSE_AND_HOME': 0.8235559566787004, 'SPORTS': 3.395758122743682, 'TOOLS': 8.461191335740072, 'AUTO_AND_VEHICLES': 0.9250902527075812, 'DATING': 1.861462093862816, 'BOOKS_AND_REFERENCE': 2.1435018050541514, 'VIDEO_PLAYERS': 1.7937725631768955}\n"
     ]
    }
   ],
   "source": [
    "print(freq_table(apple_free, 11))\n",
    "print('\\n')\n",
    "print(freq_table(android_free, 1))"
   ]
  },
  {
   "cell_type": "markdown",
   "metadata": {},
   "source": [
    "The following function:\n",
    "* Takes in two parameters: dataset and index. dataset is expected to be a list of lists, and index is expected to be an integer.\n",
    "* Generates a frequency table using the freq_table() function (which you're going to write as an exercise).\n",
    "* Transforms the frequency table into a list of tuples, then sorts the list in a descending order.\n",
    "* Prints the entries of the frequency table in descending order."
   ]
  },
  {
   "cell_type": "code",
   "execution_count": 49,
   "metadata": {
    "collapsed": true
   },
   "outputs": [],
   "source": [
    "def display_table(dataset, index):\n",
    "    table = freq_table(dataset, index)\n",
    "    table_display = []\n",
    "    for key in table:\n",
    "        key_val_as_tuple = (table[key], key)\n",
    "        table_display.append(key_val_as_tuple)\n",
    "\n",
    "    table_sorted = sorted(table_display, reverse = True)\n",
    "    for entry in table_sorted:\n",
    "        print(entry[1], ':', entry[0])"
   ]
  },
  {
   "cell_type": "code",
   "execution_count": 50,
   "metadata": {
    "collapsed": false
   },
   "outputs": [
    {
     "name": "stdout",
     "output_type": "stream",
     "text": [
      "Apple \"prime_genre\" column, index 11: \n",
      "\n",
      "\n",
      "Games : 58.16263190564867\n",
      "Entertainment : 7.883302296710118\n",
      "Photo & Video : 4.9658597144630665\n",
      "Education : 3.662321539416512\n",
      "Social Networking : 3.2898820608317814\n",
      "Shopping : 2.60707635009311\n",
      "Utilities : 2.5139664804469275\n",
      "Sports : 2.1415270018621975\n",
      "Music : 2.0484171322160147\n",
      "Health & Fitness : 2.0173805090006205\n",
      "Productivity : 1.7380509000620732\n",
      "Lifestyle : 1.5828677839851024\n",
      "News : 1.3345747982619491\n",
      "Travel : 1.2414649286157666\n",
      "Finance : 1.1173184357541899\n",
      "Weather : 0.8690254500310366\n",
      "Food & Drink : 0.8069522036002483\n",
      "Reference : 0.5586592178770949\n",
      "Business : 0.5276225946617008\n",
      "Book : 0.4345127250155183\n",
      "Navigation : 0.186219739292365\n",
      "Medical : 0.186219739292365\n",
      "Catalogs : 0.12414649286157665\n"
     ]
    }
   ],
   "source": [
    "print(\"Apple \\\"prime_genre\\\" column, index 11: \")\n",
    "print(\"\\n\")\n",
    "display_table(apple_free, 11)"
   ]
  },
  {
   "cell_type": "code",
   "execution_count": 51,
   "metadata": {
    "collapsed": false
   },
   "outputs": [
    {
     "name": "stdout",
     "output_type": "stream",
     "text": [
      "Android \"Category\" column, index 1: \n",
      "\n",
      "\n",
      "FAMILY : 18.907942238267147\n",
      "GAME : 9.724729241877256\n",
      "TOOLS : 8.461191335740072\n",
      "BUSINESS : 4.591606498194946\n",
      "LIFESTYLE : 3.9034296028880866\n",
      "PRODUCTIVITY : 3.892148014440433\n",
      "FINANCE : 3.7003610108303246\n",
      "MEDICAL : 3.531137184115524\n",
      "SPORTS : 3.395758122743682\n",
      "PERSONALIZATION : 3.3167870036101084\n",
      "COMMUNICATION : 3.2378158844765346\n",
      "HEALTH_AND_FITNESS : 3.0798736462093865\n",
      "PHOTOGRAPHY : 2.944494584837545\n",
      "NEWS_AND_MAGAZINES : 2.7978339350180503\n",
      "SOCIAL : 2.6624548736462095\n",
      "TRAVEL_AND_LOCAL : 2.33528880866426\n",
      "SHOPPING : 2.2450361010830324\n",
      "BOOKS_AND_REFERENCE : 2.1435018050541514\n",
      "DATING : 1.861462093862816\n",
      "VIDEO_PLAYERS : 1.7937725631768955\n",
      "MAPS_AND_NAVIGATION : 1.3989169675090252\n",
      "FOOD_AND_DRINK : 1.2409747292418771\n",
      "EDUCATION : 1.1620036101083033\n",
      "ENTERTAINMENT : 0.9589350180505415\n",
      "LIBRARIES_AND_DEMO : 0.9363718411552346\n",
      "AUTO_AND_VEHICLES : 0.9250902527075812\n",
      "HOUSE_AND_HOME : 0.8235559566787004\n",
      "WEATHER : 0.8009927797833934\n",
      "EVENTS : 0.7107400722021661\n",
      "PARENTING : 0.6543321299638989\n",
      "ART_AND_DESIGN : 0.6430505415162455\n",
      "COMICS : 0.6204873646209386\n",
      "BEAUTY : 0.5979241877256317\n"
     ]
    }
   ],
   "source": [
    "print(\"Android \\\"Category\\\" column, index 1: \")\n",
    "print(\"\\n\")\n",
    "display_table(android_free, 1)"
   ]
  },
  {
   "cell_type": "code",
   "execution_count": 52,
   "metadata": {
    "collapsed": false
   },
   "outputs": [
    {
     "name": "stdout",
     "output_type": "stream",
     "text": [
      "Android \"Genre\" column, index 9: \n",
      "\n",
      "\n",
      "Tools : 8.449909747292418\n",
      "Entertainment : 6.069494584837545\n",
      "Education : 5.347472924187725\n",
      "Business : 4.591606498194946\n",
      "Productivity : 3.892148014440433\n",
      "Lifestyle : 3.892148014440433\n",
      "Finance : 3.7003610108303246\n",
      "Medical : 3.531137184115524\n",
      "Sports : 3.463447653429603\n",
      "Personalization : 3.3167870036101084\n",
      "Communication : 3.2378158844765346\n",
      "Action : 3.1024368231046933\n",
      "Health & Fitness : 3.0798736462093865\n",
      "Photography : 2.944494584837545\n",
      "News & Magazines : 2.7978339350180503\n",
      "Social : 2.6624548736462095\n",
      "Travel & Local : 2.3240072202166067\n",
      "Shopping : 2.2450361010830324\n",
      "Books & Reference : 2.1435018050541514\n",
      "Simulation : 2.0419675090252705\n",
      "Dating : 1.861462093862816\n",
      "Arcade : 1.8501805054151623\n",
      "Video Players & Editors : 1.7712093862815883\n",
      "Casual : 1.7599277978339352\n",
      "Maps & Navigation : 1.3989169675090252\n",
      "Food & Drink : 1.2409747292418771\n",
      "Puzzle : 1.128158844765343\n",
      "Racing : 0.9927797833935018\n",
      "Role Playing : 0.9363718411552346\n",
      "Libraries & Demo : 0.9363718411552346\n",
      "Auto & Vehicles : 0.9250902527075812\n",
      "Strategy : 0.9138086642599278\n",
      "House & Home : 0.8235559566787004\n",
      "Weather : 0.8009927797833934\n",
      "Events : 0.7107400722021661\n",
      "Adventure : 0.6768953068592057\n",
      "Comics : 0.6092057761732852\n",
      "Beauty : 0.5979241877256317\n",
      "Art & Design : 0.5979241877256317\n",
      "Parenting : 0.4963898916967509\n",
      "Card : 0.45126353790613716\n",
      "Casino : 0.42870036101083037\n",
      "Trivia : 0.41741877256317694\n",
      "Educational;Education : 0.39485559566787\n",
      "Board : 0.3835740072202166\n",
      "Educational : 0.3722924187725632\n",
      "Education;Education : 0.33844765342960287\n",
      "Word : 0.2594765342960289\n",
      "Casual;Pretend Play : 0.236913357400722\n",
      "Music : 0.2030685920577617\n",
      "Racing;Action & Adventure : 0.16922382671480143\n",
      "Puzzle;Brain Games : 0.16922382671480143\n",
      "Entertainment;Music & Video : 0.16922382671480143\n",
      "Casual;Brain Games : 0.13537906137184114\n",
      "Casual;Action & Adventure : 0.13537906137184114\n",
      "Arcade;Action & Adventure : 0.12409747292418773\n",
      "Action;Action & Adventure : 0.10153429602888085\n",
      "Educational;Pretend Play : 0.09025270758122744\n",
      "Simulation;Action & Adventure : 0.078971119133574\n",
      "Parenting;Education : 0.078971119133574\n",
      "Entertainment;Brain Games : 0.078971119133574\n",
      "Board;Brain Games : 0.078971119133574\n",
      "Parenting;Music & Video : 0.06768953068592057\n",
      "Educational;Brain Games : 0.06768953068592057\n",
      "Casual;Creativity : 0.06768953068592057\n",
      "Art & Design;Creativity : 0.06768953068592057\n",
      "Education;Pretend Play : 0.056407942238267145\n",
      "Role Playing;Pretend Play : 0.04512635379061372\n",
      "Education;Creativity : 0.04512635379061372\n",
      "Role Playing;Action & Adventure : 0.033844765342960284\n",
      "Puzzle;Action & Adventure : 0.033844765342960284\n",
      "Entertainment;Creativity : 0.033844765342960284\n",
      "Entertainment;Action & Adventure : 0.033844765342960284\n",
      "Educational;Creativity : 0.033844765342960284\n",
      "Educational;Action & Adventure : 0.033844765342960284\n",
      "Education;Music & Video : 0.033844765342960284\n",
      "Education;Brain Games : 0.033844765342960284\n",
      "Education;Action & Adventure : 0.033844765342960284\n",
      "Adventure;Action & Adventure : 0.033844765342960284\n",
      "Video Players & Editors;Music & Video : 0.02256317689530686\n",
      "Sports;Action & Adventure : 0.02256317689530686\n",
      "Simulation;Pretend Play : 0.02256317689530686\n",
      "Puzzle;Creativity : 0.02256317689530686\n",
      "Music;Music & Video : 0.02256317689530686\n",
      "Entertainment;Pretend Play : 0.02256317689530686\n",
      "Casual;Education : 0.02256317689530686\n",
      "Board;Action & Adventure : 0.02256317689530686\n",
      "Video Players & Editors;Creativity : 0.01128158844765343\n",
      "Trivia;Education : 0.01128158844765343\n",
      "Travel & Local;Action & Adventure : 0.01128158844765343\n",
      "Tools;Education : 0.01128158844765343\n",
      "Strategy;Education : 0.01128158844765343\n",
      "Strategy;Creativity : 0.01128158844765343\n",
      "Strategy;Action & Adventure : 0.01128158844765343\n",
      "Simulation;Education : 0.01128158844765343\n",
      "Role Playing;Brain Games : 0.01128158844765343\n",
      "Racing;Pretend Play : 0.01128158844765343\n",
      "Puzzle;Education : 0.01128158844765343\n",
      "Parenting;Brain Games : 0.01128158844765343\n",
      "Music & Audio;Music & Video : 0.01128158844765343\n",
      "Lifestyle;Pretend Play : 0.01128158844765343\n",
      "Lifestyle;Education : 0.01128158844765343\n",
      "Health & Fitness;Education : 0.01128158844765343\n",
      "Health & Fitness;Action & Adventure : 0.01128158844765343\n",
      "Entertainment;Education : 0.01128158844765343\n",
      "Communication;Creativity : 0.01128158844765343\n",
      "Comics;Creativity : 0.01128158844765343\n",
      "Casual;Music & Video : 0.01128158844765343\n",
      "Card;Action & Adventure : 0.01128158844765343\n",
      "Books & Reference;Education : 0.01128158844765343\n",
      "Art & Design;Pretend Play : 0.01128158844765343\n",
      "Art & Design;Action & Adventure : 0.01128158844765343\n",
      "Arcade;Pretend Play : 0.01128158844765343\n",
      "Adventure;Education : 0.01128158844765343\n"
     ]
    }
   ],
   "source": [
    "print(\"Android \\\"Genre\\\" column, index 9: \")\n",
    "print(\"\\n\")\n",
    "display_table(android_free, 9)"
   ]
  },
  {
   "cell_type": "markdown",
   "metadata": {},
   "source": [
    "### Most popular apps by genre in the App Store"
   ]
  },
  {
   "cell_type": "code",
   "execution_count": 53,
   "metadata": {
    "collapsed": true
   },
   "outputs": [],
   "source": [
    "def freq_table(dataset, index):\n",
    "    table = {}\n",
    "    for row in dataset:\n",
    "        item = row[index]\n",
    "        if item in table:\n",
    "            table[item] += 1\n",
    "        else:\n",
    "            table[item] = 1\n",
    "    \n",
    "    table_percent = {}\n",
    "    for key in table:\n",
    "        percent = (table[key] / len(dataset)) * 100\n",
    "        table_percent[key] = percent\n",
    "    \n",
    "    return table_percent"
   ]
  },
  {
   "cell_type": "code",
   "execution_count": 54,
   "metadata": {
    "collapsed": false
   },
   "outputs": [
    {
     "name": "stdout",
     "output_type": "stream",
     "text": [
      "{'Finance': 1.1173184357541899, 'Sports': 2.1415270018621975, 'Education': 3.662321539416512, 'Book': 0.4345127250155183, 'Medical': 0.186219739292365, 'Utilities': 2.5139664804469275, 'News': 1.3345747982619491, 'Social Networking': 3.2898820608317814, 'Music': 2.0484171322160147, 'Business': 0.5276225946617008, 'Health & Fitness': 2.0173805090006205, 'Entertainment': 7.883302296710118, 'Weather': 0.8690254500310366, 'Navigation': 0.186219739292365, 'Catalogs': 0.12414649286157665, 'Shopping': 2.60707635009311, 'Lifestyle': 1.5828677839851024, 'Productivity': 1.7380509000620732, 'Photo & Video': 4.9658597144630665, 'Travel': 1.2414649286157666, 'Games': 58.16263190564867, 'Food & Drink': 0.8069522036002483, 'Reference': 0.5586592178770949}\n"
     ]
    }
   ],
   "source": [
    "print(freq_table(apple_free, 11))"
   ]
  },
  {
   "cell_type": "code",
   "execution_count": 55,
   "metadata": {
    "collapsed": false
   },
   "outputs": [
    {
     "name": "stdout",
     "output_type": "stream",
     "text": [
      "Finance : 31467.944444444445\n",
      "Sports : 23008.898550724636\n",
      "Education : 7003.983050847458\n",
      "Book : 39758.5\n",
      "Medical : 612.0\n",
      "Utilities : 18684.456790123455\n",
      "News : 21248.023255813954\n",
      "Social Networking : 71548.34905660378\n",
      "Music : 57326.530303030304\n",
      "Business : 7491.117647058823\n",
      "Health & Fitness : 23298.015384615384\n",
      "Entertainment : 14029.830708661417\n",
      "Weather : 52279.892857142855\n",
      "Navigation : 86090.33333333333\n",
      "Catalogs : 4004.0\n",
      "Shopping : 26919.690476190477\n",
      "Lifestyle : 16485.764705882353\n",
      "Productivity : 21028.410714285714\n",
      "Photo & Video : 28441.54375\n",
      "Travel : 28243.8\n",
      "Games : 22788.6696905016\n",
      "Food & Drink : 33333.92307692308\n",
      "Reference : 74942.11111111111\n"
     ]
    }
   ],
   "source": [
    "apple_genres = freq_table(apple_free, 11)\n",
    "\n",
    "for genre in apple_genres:\n",
    "    total = 0 # stores the number of user ratings (not the actual rating)\n",
    "    len_genre = 0 # stores number of apps in each genres\n",
    "    for app in apple_free:\n",
    "        genre_app = app[11]\n",
    "        if genre_app == genre:\n",
    "            user_rating_nb = float(app[5])\n",
    "            total += user_rating_nb\n",
    "            len_genre += 1\n",
    "    avg_nb_user_rating = total / len_genre\n",
    "    print(genre, \":\", avg_nb_user_rating)"
   ]
  },
  {
   "cell_type": "markdown",
   "metadata": {},
   "source": [
    "Analyze the results and try to come up with at least one app profile recommendation for the App Store."
   ]
  },
  {
   "cell_type": "markdown",
   "metadata": {},
   "source": [
    "### Most popular apps by genre in the Google Play Store"
   ]
  },
  {
   "cell_type": "code",
   "execution_count": 56,
   "metadata": {
    "collapsed": false
   },
   "outputs": [
    {
     "name": "stdout",
     "output_type": "stream",
     "text": [
      "1,000,000+ : 15.726534296028879\n",
      "100,000+ : 11.552346570397113\n",
      "10,000,000+ : 10.548285198555957\n",
      "10,000+ : 10.198555956678701\n",
      "1,000+ : 8.393501805054152\n",
      "100+ : 6.915613718411552\n",
      "5,000,000+ : 6.825361010830325\n",
      "500,000+ : 5.561823104693141\n",
      "50,000+ : 4.7721119133574\n",
      "5,000+ : 4.512635379061372\n",
      "10+ : 3.5424187725631766\n",
      "500+ : 3.2490974729241873\n",
      "50,000,000+ : 2.3014440433213\n",
      "100,000,000+ : 2.1322202166064983\n",
      "50+ : 1.917870036101083\n",
      "5+ : 0.78971119133574\n",
      "1+ : 0.5076714801444043\n",
      "500,000,000+ : 0.2707581227436823\n",
      "1,000,000,000+ : 0.22563176895306858\n",
      "0+ : 0.04512635379061372\n",
      "0 : 0.01128158844765343\n"
     ]
    }
   ],
   "source": [
    "display_table(android_free, 5) # the \"Installs\" column, wich is a string..."
   ]
  },
  {
   "cell_type": "code",
   "execution_count": 57,
   "metadata": {
    "collapsed": false
   },
   "outputs": [
    {
     "name": "stdout",
     "output_type": "stream",
     "text": [
      "{'NEWS_AND_MAGAZINES': 2.7978339350180503, 'EVENTS': 0.7107400722021661, 'ART_AND_DESIGN': 0.6430505415162455, 'FOOD_AND_DRINK': 1.2409747292418771, 'BUSINESS': 4.591606498194946, 'COMICS': 0.6204873646209386, 'SHOPPING': 2.2450361010830324, 'EDUCATION': 1.1620036101083033, 'LIFESTYLE': 3.9034296028880866, 'ENTERTAINMENT': 0.9589350180505415, 'TRAVEL_AND_LOCAL': 2.33528880866426, 'FAMILY': 18.907942238267147, 'BEAUTY': 0.5979241877256317, 'PRODUCTIVITY': 3.892148014440433, 'SOCIAL': 2.6624548736462095, 'MEDICAL': 3.531137184115524, 'HEALTH_AND_FITNESS': 3.0798736462093865, 'PARENTING': 0.6543321299638989, 'LIBRARIES_AND_DEMO': 0.9363718411552346, 'PERSONALIZATION': 3.3167870036101084, 'MAPS_AND_NAVIGATION': 1.3989169675090252, 'GAME': 9.724729241877256, 'PHOTOGRAPHY': 2.944494584837545, 'WEATHER': 0.8009927797833934, 'COMMUNICATION': 3.2378158844765346, 'FINANCE': 3.7003610108303246, 'HOUSE_AND_HOME': 0.8235559566787004, 'SPORTS': 3.395758122743682, 'TOOLS': 8.461191335740072, 'AUTO_AND_VEHICLES': 0.9250902527075812, 'DATING': 1.861462093862816, 'BOOKS_AND_REFERENCE': 2.1435018050541514, 'VIDEO_PLAYERS': 1.7937725631768955}\n"
     ]
    }
   ],
   "source": [
    "android_genre = freq_table(android_free, 1)\n",
    "print(android_genre)"
   ]
  },
  {
   "cell_type": "code",
   "execution_count": 59,
   "metadata": {
    "collapsed": false
   },
   "outputs": [
    {
     "name": "stdout",
     "output_type": "stream",
     "text": [
      "NEWS_AND_MAGAZINES : 9549178.467741935\n",
      "EVENTS : 253542.22222222222\n",
      "ART_AND_DESIGN : 1986335.0877192982\n",
      "FOOD_AND_DRINK : 1924897.7363636363\n",
      "BUSINESS : 1712290.1474201474\n",
      "COMICS : 817657.2727272727\n",
      "SHOPPING : 7036877.311557789\n",
      "EDUCATION : 1833495.145631068\n",
      "LIFESTYLE : 1437816.2687861272\n",
      "ENTERTAINMENT : 11640705.88235294\n",
      "TRAVEL_AND_LOCAL : 13984077.710144928\n",
      "FAMILY : 3695641.8198090694\n",
      "BEAUTY : 513151.88679245283\n",
      "PRODUCTIVITY : 16787331.344927534\n",
      "SOCIAL : 23253652.127118643\n",
      "MEDICAL : 120550.61980830671\n",
      "HEALTH_AND_FITNESS : 4188821.9853479853\n",
      "PARENTING : 542603.6206896552\n",
      "LIBRARIES_AND_DEMO : 638503.734939759\n",
      "PERSONALIZATION : 5201482.6122448975\n",
      "MAPS_AND_NAVIGATION : 4056941.7741935486\n",
      "GAME : 15588015.603248259\n",
      "PHOTOGRAPHY : 17840110.40229885\n",
      "WEATHER : 5074486.197183099\n",
      "COMMUNICATION : 38456119.167247385\n",
      "FINANCE : 1387692.475609756\n",
      "HOUSE_AND_HOME : 1331540.5616438356\n",
      "SPORTS : 3638640.1428571427\n",
      "TOOLS : 10801391.298666667\n",
      "AUTO_AND_VEHICLES : 647317.8170731707\n",
      "DATING : 854028.8303030303\n",
      "BOOKS_AND_REFERENCE : 8767811.894736841\n",
      "VIDEO_PLAYERS : 24727872.452830188\n"
     ]
    }
   ],
   "source": [
    "android_genre = freq_table(android_free, 1)\n",
    "\n",
    "for category in android_genre:\n",
    "    total = 0 # store the sum of installs specific to each genre\n",
    "    len_category = 0 # store the number of apps specific to each genre\n",
    "    for app in android_free:\n",
    "        category_app = app[1]\n",
    "        if category_app == category:\n",
    "            n_installs = app[5]\n",
    "            n_installs = n_installs.replace(\",\", \"\")\n",
    "            n_installs = n_installs.replace(\"+\", \"\")\n",
    "            total += float(n_installs)\n",
    "            len_category += 1\n",
    "    avg_n_installs = total / len_category\n",
    "    print(category, \":\", avg_n_installs)   "
   ]
  },
  {
   "cell_type": "markdown",
   "metadata": {
    "collapsed": true
   },
   "source": [
    "### Next Steps\n",
    "\n",
    "These are a few next steps you could take:\n",
    "\n",
    "* Analyze the frequency table for the Genre column of the Google Play data set, and see whether you can find useful patterns.\n",
    "* Assume we could also make revenue via in-app purchases and subscriptions, and try to find out which genres seem to be liked the most by users — you could examine app ratings here.\n",
    "* Refine your project using our data science project style guide: https://www.dataquest.io/blog/data-science-project-style-guide/"
   ]
  }
 ],
 "metadata": {
  "kernelspec": {
   "display_name": "Python 3",
   "language": "python",
   "name": "python3"
  },
  "language_info": {
   "codemirror_mode": {
    "name": "ipython",
    "version": 3
   },
   "file_extension": ".py",
   "mimetype": "text/x-python",
   "name": "python",
   "nbconvert_exporter": "python",
   "pygments_lexer": "ipython3",
   "version": "3.4.3"
  }
 },
 "nbformat": 4,
 "nbformat_minor": 2
}
